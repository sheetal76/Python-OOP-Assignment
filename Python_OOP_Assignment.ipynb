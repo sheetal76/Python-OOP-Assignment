{
  "nbformat": 4,
  "nbformat_minor": 0,
  "metadata": {
    "colab": {
      "provenance": []
    },
    "kernelspec": {
      "name": "python3",
      "display_name": "Python 3"
    },
    "language_info": {
      "name": "python"
    }
  },
  "cells": [
    {
      "cell_type": "code",
      "execution_count": null,
      "metadata": {
        "id": "2RyEAaDNbv85"
      },
      "outputs": [],
      "source": [
        "#Q1. What is the purpose of Python's OOP?"
      ]
    },
    {
      "cell_type": "markdown",
      "source": [
        "\n",
        "The purpose of Python's object-oriented programming (OOP) is to organize and structure code in a way that makes it more manageable, reusable, and scalable.\n",
        "\n",
        "-Encapsulation: Encapsulation allows bundling data (attributes) and methods that operate on the data into a single unit (class). This helps in controlling access to the data and prevents unintended modifications.\n",
        "\n",
        "-Inheritance: Inheritance allows creating new classes (derived classes) based on existing classes (base or parent classes). This promotes code reusability and helps in implementing the \"is-a\" relationship between classes.\n",
        "\n",
        "-Inheritance: Inheritance allows creating new classes (derived classes) based on existing classes (base or parent classes). This promotes code reusability and helps in implementing the \"is-a\" relationship between classes."
      ],
      "metadata": {
        "id": "bdptNkSocIKe"
      }
    },
    {
      "cell_type": "code",
      "source": [
        "#Q2. Where does an inheritance search look for an attribute?"
      ],
      "metadata": {
        "id": "1RIBJcu4cZaj"
      },
      "execution_count": null,
      "outputs": []
    },
    {
      "cell_type": "markdown",
      "source": [
        "An inheritance search for an attribute in Python looks in the following order:\n",
        "1)The object itself.\n",
        "T2)he class of the object.\n",
        "3)The base classes of the class, following the method resolution order.\n",
        "\n",
        "-The method resolution order(mro) is determined by the C3 linearization algorithm, which is used to create a linear order of the classes in a hierarchy. This linearization ensures that the attribute lookup follows a consistent and predictable order, avoiding ambiguities in multiple inheritance scenarios.\n",
        "\n",
        "If the attribute is not found in any of these places, Python raises an AttributeError."
      ],
      "metadata": {
        "id": "PahxIOlKchTD"
      }
    },
    {
      "cell_type": "code",
      "source": [
        "#Q3. How do you distinguish between a class object and an instance object?"
      ],
      "metadata": {
        "id": "URUj24Rkd31T"
      },
      "execution_count": null,
      "outputs": []
    },
    {
      "cell_type": "markdown",
      "source": [
        "\n",
        "In Python, a class object is an object that represents a class, while an instance object is an object that is created from a class and represents an instance of that class.\n",
        "\n",
        "-A class object is created when the class keyword is used to define a new class. It defines the structure and behavior of instances of that class. An instance object is created using the class name followed by parentheses, like a function call, which invokes the class's __init__ method to initialize the object\n",
        "\n",
        "-Class objects are used to access class-level attributes and methods, such as static variables or class methods. Instance objects are used to access instance-specific attributes and methods, which can vary in value from one instance to another.\n",
        "\n",
        "- Class objects are created when the Python interpreter processes the class definition. Instance objects are created explicitly by calling the class's constructor (__init__ method) or implicitly by using class methods that create instances."
      ],
      "metadata": {
        "id": "g-4xhWORd8D3"
      }
    },
    {
      "cell_type": "code",
      "source": [
        "#Q4. What makes the first argument in a class’s method function special?"
      ],
      "metadata": {
        "id": "YGPtekIhg0-q"
      },
      "execution_count": null,
      "outputs": []
    },
    {
      "cell_type": "markdown",
      "source": [
        "The first argument in a class's method function is typically named self by convention, although you can use any name you prefer. This argument is special because it is used to refer to the instance of the class on which the method is being called."
      ],
      "metadata": {
        "id": "4nL1X6zEg5EV"
      }
    },
    {
      "cell_type": "code",
      "source": [
        "#Q5. What is the purpose of the init method?"
      ],
      "metadata": {
        "id": "xsku1heNhqPD"
      },
      "execution_count": null,
      "outputs": []
    },
    {
      "cell_type": "markdown",
      "source": [
        "The __init__ method in Python is a special method used for initializing newly created objects. It stands for \"initialize\" and is also known as the constructor method in other programming languages. The __init__ method is called automatically when a new instance of a class is created.\n",
        "\n",
        "*__init__ method is used to initialize the instance variables (attributes) of a newly created object. This allows you to set initial values for the object's attributes."
      ],
      "metadata": {
        "id": "Mzt7mgGMhvNh"
      }
    },
    {
      "cell_type": "code",
      "source": [
        "#Q6. What is the process for creating a class instance?"
      ],
      "metadata": {
        "id": "gEaA5XKjiliN"
      },
      "execution_count": null,
      "outputs": []
    },
    {
      "cell_type": "markdown",
      "source": [
        "-First, we define a class using the class keyword. The class serves as a blueprint for creating instances of that class.\n",
        "\n",
        "-Define an __init__ method in the class to initialize the instance with any necessary attributes. This method is called automatically when a new instance is created.\n",
        "\n",
        "-To create an instance of the class, you call the class as if it were a function, passing any required arguments to the __init__ method. This creates a new instance of the class.\n",
        "\n",
        "- Once the instance is created,we can access its attributes and methods using dot notation"
      ],
      "metadata": {
        "id": "TyazOxJfiqgT"
      }
    },
    {
      "cell_type": "code",
      "source": [
        "class Person:\n",
        "    def __init__(self, name, age):\n",
        "        self.name = name\n",
        "        self.age = age\n",
        "\n",
        "    def greet(self):\n",
        "        return f\"Hello, my name is {self.name} and I am {self.age} years old.\"\n",
        "\n",
        "person1 = Person(\"Sheetal\", 25)\n",
        "\n",
        "print(person1.age)"
      ],
      "metadata": {
        "colab": {
          "base_uri": "https://localhost:8080/"
        },
        "id": "0vEN0BP9jnag",
        "outputId": "2e85f5f0-05cd-4903-e8aa-575dccf1d861"
      },
      "execution_count": null,
      "outputs": [
        {
          "output_type": "stream",
          "name": "stdout",
          "text": [
            "25\n"
          ]
        }
      ]
    },
    {
      "cell_type": "code",
      "source": [
        "#Q7. What is the process for creating a class?"
      ],
      "metadata": {
        "id": "NpahBE1Hj51E"
      },
      "execution_count": null,
      "outputs": []
    },
    {
      "cell_type": "markdown",
      "source": [
        "-We use the class keyword followed by the class name to define a new class. Inside the class definition, you can define attributes (variables) and methods (functions) that belong to the class.\n",
        "\n",
        "-Use the __init__ method (also known as the constructor) to define the initial state of an object. This method is called when a new instance of the class is created.\n",
        "\n",
        "-Define methods inside the class to provide functionality to objects of the class. These methods can access and modify the object's attributes.\n",
        "\n",
        "- To create an instance of the class, you call the class as if it were a function, passing any required arguments to the __init__ method. This creates a new instance of the class."
      ],
      "metadata": {
        "id": "fUG2N50zj_dJ"
      }
    },
    {
      "cell_type": "code",
      "source": [
        "#Q8. How would you define the superclasses of a class?"
      ],
      "metadata": {
        "id": "D5YR6bOJkjxQ"
      },
      "execution_count": null,
      "outputs": []
    },
    {
      "cell_type": "markdown",
      "source": [
        "We can define the superclasses (also known as parent classes or base classes) of a class by specifying them in the class definition. When a class inherits from another class, it automatically becomes a subclass of that class, and the superclass becomes the parent class."
      ],
      "metadata": {
        "id": "dYyakOVpktX-"
      }
    },
    {
      "cell_type": "code",
      "source": [
        "class Animal:\n",
        "    def __init__(self, species):\n",
        "        self.species = species\n",
        "\n",
        "    def speak(self):\n",
        "        raise NotImplementedError(\"Subclass must implement this method\")\n",
        "\n",
        "class Dog(Animal):\n",
        "    def __init__(self, name):\n",
        "        super().__init__(\"Dog\")\n",
        "        self.name = name\n",
        "\n",
        "    def speak(self):\n",
        "        return \"Woof!\"\n",
        "\n",
        "dog = Dog(\"snoopy\")\n",
        "dog.name"
      ],
      "metadata": {
        "colab": {
          "base_uri": "https://localhost:8080/",
          "height": 35
        },
        "id": "jqKm5LndlPxi",
        "outputId": "50817dfe-317d-4686-ca14-74c81b3d7d7e"
      },
      "execution_count": null,
      "outputs": [
        {
          "output_type": "execute_result",
          "data": {
            "text/plain": [
              "'snoopy'"
            ],
            "application/vnd.google.colaboratory.intrinsic+json": {
              "type": "string"
            }
          },
          "metadata": {},
          "execution_count": 3
        }
      ]
    },
    {
      "cell_type": "code",
      "source": [
        "#Q9. What is the relationship between classes and modules?"
      ],
      "metadata": {
        "id": "j_TeoGZ-ljMt"
      },
      "execution_count": null,
      "outputs": []
    },
    {
      "cell_type": "markdown",
      "source": [
        "Classes are used to create new types of objects with specific attributes and methods. They are like blueprints for creating objects. We can define a class with class ClassName: and then create instances of that class to work with.\n",
        "\n",
        "Modules are files that contain Python code, typically containing variables, functions, and classes. Modules allow you to organize your Python code into reusable units. You can import modules into your Python script using import module_name and then access the contents of the module using dot notation\n",
        "\n",
        "Relationship: Classes can be included in modules, and modules can contain classes. This allows you to organize related classes into a single module. When you import a module that contains classes, you can then use those classes in your code."
      ],
      "metadata": {
        "id": "GKtkI8QElqah"
      }
    },
    {
      "cell_type": "code",
      "source": [
        "#Q10. How do you make instances and classes?"
      ],
      "metadata": {
        "id": "4IRO4Jle46Kr"
      },
      "execution_count": null,
      "outputs": []
    },
    {
      "cell_type": "markdown",
      "source": [
        "To create instances of classes in Python,we first need to define a class using the class keyword. Inside the class, we can define attributes (variables) and methods (functions) that describe the behavior of the class. To create an instance of the class, we use the class name followed by parentheses."
      ],
      "metadata": {
        "id": "tNcY6Xd37T9G"
      }
    },
    {
      "cell_type": "code",
      "source": [
        "class Dog:\n",
        "    def __init__(self, name, age):\n",
        "        self.name = name\n",
        "        self.age = age\n",
        "dog1 = Dog(\"Buddy\", 3)\n",
        "dog2 = Dog(\"Milo\", 5)\n",
        "\n",
        "print(dog1.name)"
      ],
      "metadata": {
        "colab": {
          "base_uri": "https://localhost:8080/"
        },
        "id": "3L4vwf2E7dpf",
        "outputId": "d52f8a68-a805-4fbc-ac9f-5010267e5b8d"
      },
      "execution_count": null,
      "outputs": [
        {
          "output_type": "stream",
          "name": "stdout",
          "text": [
            "Buddy\n"
          ]
        }
      ]
    },
    {
      "cell_type": "code",
      "source": [
        "#Q11. Where and how should be class attributes created?"
      ],
      "metadata": {
        "id": "lsX-sCrm7lVc"
      },
      "execution_count": null,
      "outputs": []
    },
    {
      "cell_type": "markdown",
      "source": [
        "\n",
        "Class attributes are created inside the class definition but outside of any class methods. They are typically placed at the beginning of the class, before any methods are defined."
      ],
      "metadata": {
        "id": "XwhvE2bH7ydQ"
      }
    },
    {
      "cell_type": "code",
      "source": [
        "class MyClass:\n",
        "    class_attribute = \"I am a class attribute\"\n",
        "\n",
        "    def __init__(self, instance_attribute):\n",
        "        self.instance_attribute = instance_attribute\n",
        "\n",
        "    def method(self):\n",
        "        pass\n"
      ],
      "metadata": {
        "id": "jlqFB-A4j6VV"
      },
      "execution_count": null,
      "outputs": []
    },
    {
      "cell_type": "code",
      "source": [
        "#Q12. Where and how are instance attributes created?"
      ],
      "metadata": {
        "id": "A4Nf-bFRkMpa"
      },
      "execution_count": null,
      "outputs": []
    },
    {
      "cell_type": "markdown",
      "source": [
        "\n",
        "Instance attributes in Python are created inside the __init__ method of a class. The __init__ method is a special method used for initializing new instances of a class. Inside __init__, you can use the self keyword to create instance attributes and assign initial values to them."
      ],
      "metadata": {
        "id": "N7ZglcxSkbhR"
      }
    },
    {
      "cell_type": "code",
      "source": [
        "class MyClass:\n",
        "    def __init__(self, instance_attribute):\n",
        "        self.instance_attribute = instance_attribute\n",
        "\n",
        "    def method(self):\n",
        "        pass\n",
        "\n",
        "my_instance = MyClass(\"I am an instance attribute\")\n"
      ],
      "metadata": {
        "id": "xq-6tglRlxYs"
      },
      "execution_count": null,
      "outputs": []
    },
    {
      "cell_type": "code",
      "source": [
        "#Q13. What does the term \"self\" in a Python class mean?"
      ],
      "metadata": {
        "id": "K5dVXJaEl1ih"
      },
      "execution_count": null,
      "outputs": []
    },
    {
      "cell_type": "markdown",
      "source": [
        "self is a convention used to refer to the current instance of a class. It is the first parameter of any method defined in a class and is automatically passed to the method when it is called. By using self, you can access the attributes and methods of the current instance within the class."
      ],
      "metadata": {
        "id": "YNiVOmFfl7RK"
      }
    },
    {
      "cell_type": "code",
      "source": [
        "#Q14. How does a Python class handle operator overloading?"
      ],
      "metadata": {
        "id": "gGAMkZz5muoU"
      },
      "execution_count": null,
      "outputs": []
    },
    {
      "cell_type": "markdown",
      "source": [
        "operator overloading allows us to define how operators behave for objects of a class. This is achieved by implementing special methods with predefined names that Python recognizes. These special methods are also called magic methods or dunder (double underscore) methods."
      ],
      "metadata": {
        "id": "pHCQihVEmz9I"
      }
    },
    {
      "cell_type": "code",
      "source": [
        "#Q15. When do you consider allowing operator overloading of your classes?"
      ],
      "metadata": {
        "id": "N8aPwkePnPIl"
      },
      "execution_count": null,
      "outputs": []
    },
    {
      "cell_type": "markdown",
      "source": [
        "\n",
        "we might consider allowing operator overloading in our classes when we want to provide a more natural and intuitive way to work with objects of  class using Python's operators.\n",
        "\n",
        "-Enhanced readability: Overloading operators can make your code more readable and expressive, especially for operations that are commonly associated with certain operators. For example, adding two complex numbers using the + operator (a + b) is more readable than calling a method (a.add(b))."
      ],
      "metadata": {
        "id": "EJqgYtMon5Rw"
      }
    },
    {
      "cell_type": "code",
      "source": [
        "#Q16. What is the most popular form of operator overloading?"
      ],
      "metadata": {
        "id": "lNkCsUV4pKJs"
      },
      "execution_count": null,
      "outputs": []
    },
    {
      "cell_type": "markdown",
      "source": [
        "In Python, one of the most popular forms of operator overloading is overloading the arithmetic operators (+, -, *, /, etc.). This is because arithmetic operations are common in many types of classes, such as those representing mathematical concepts like vectors, matrices, and complex numbers.\n",
        "\n",
        "By overloading these operators, you can define how instances of your class should behave when they are used with arithmetic operators. This can make your code more readable and expressive, especially when working with mathematical operations."
      ],
      "metadata": {
        "id": "lyezVaWkpOy6"
      }
    },
    {
      "cell_type": "code",
      "source": [
        "#Q17. What are the two most important concepts to grasp in order to comprehend Python OOP code?\n",
        "\n"
      ],
      "metadata": {
        "id": "zXW4Wz4yp24N"
      },
      "execution_count": null,
      "outputs": []
    },
    {
      "cell_type": "markdown",
      "source": [
        "Classes and Objects: Understand the concept of classes as blueprints for creating objects and objects as instances of classes. Classes define the properties (attributes) and behaviors (methods) of objects. Objects are created from classes and can have their own unique states.\n",
        "\n",
        "Inheritance and Polymorphism: Understand how inheritance allows you to create new classes based on existing classes, inheriting their attributes and methods. Polymorphism refers to the ability of objects to take on multiple forms, where a subclass can define its own implementation of a method defined in a superclass."
      ],
      "metadata": {
        "id": "fzifUPUTqgbY"
      }
    },
    {
      "cell_type": "code",
      "source": [
        "#Q18. Describe three applications for exception processing."
      ],
      "metadata": {
        "id": "pj2qg2fDy_jj"
      },
      "execution_count": null,
      "outputs": []
    },
    {
      "cell_type": "markdown",
      "source": [
        "-Error Handling: When writing code, errors can occur due to various reasons such as invalid input, network issues, or file not found. Exception processing allows you to handle these errors gracefully, providing a way to recover from them or at least log the error information for debugging purposes.\n",
        "\n",
        "-Resource Management: Exception processing is also used for managing resources such as file handles, database connections, or network sockets. By using try-finally blocks, you can ensure that resources are properly released even if an exception occurs during their use.\n",
        "\n",
        "-Control Flow: Exception processing can be used to control the flow of your program under exceptional conditions. For example, you might use a try-except block to handle a specific error and then continue with the rest of the program, or you might raise a custom exception to indicate a specific condition that needs to be handled at a higher level in the call stack."
      ],
      "metadata": {
        "id": "9yO5DxqszFZU"
      }
    },
    {
      "cell_type": "code",
      "source": [
        "#Q19. What happens if you don't do something extra to treat an exception?"
      ],
      "metadata": {
        "id": "qpNyoMt6zpp7"
      },
      "execution_count": null,
      "outputs": []
    },
    {
      "cell_type": "markdown",
      "source": [
        "\n",
        "If we don't do something extra to treat an exception, it will propagate up the call stack until it is caught and handled by an appropriate exception handler. If no handler is found, the program will terminate, and an error message will be displayed, indicating the type of exception and the line of code where it occurred."
      ],
      "metadata": {
        "id": "dReG4gsIzvSi"
      }
    },
    {
      "cell_type": "code",
      "source": [
        "def divide(x, y):\n",
        "    return x / y\n",
        "\n",
        "result = divide(10, 0)\n",
        "print(result)\n"
      ],
      "metadata": {
        "colab": {
          "base_uri": "https://localhost:8080/",
          "height": 315
        },
        "id": "ii-zwenI0MTj",
        "outputId": "1f78b01a-01a3-4d4c-8410-08362588ca97"
      },
      "execution_count": null,
      "outputs": [
        {
          "output_type": "error",
          "ename": "ZeroDivisionError",
          "evalue": "division by zero",
          "traceback": [
            "\u001b[0;31m---------------------------------------------------------------------------\u001b[0m",
            "\u001b[0;31mZeroDivisionError\u001b[0m                         Traceback (most recent call last)",
            "\u001b[0;32m<ipython-input-4-b9cee73b96d3>\u001b[0m in \u001b[0;36m<cell line: 4>\u001b[0;34m()\u001b[0m\n\u001b[1;32m      2\u001b[0m     \u001b[0;32mreturn\u001b[0m \u001b[0mx\u001b[0m \u001b[0;34m/\u001b[0m \u001b[0my\u001b[0m\u001b[0;34m\u001b[0m\u001b[0;34m\u001b[0m\u001b[0m\n\u001b[1;32m      3\u001b[0m \u001b[0;34m\u001b[0m\u001b[0m\n\u001b[0;32m----> 4\u001b[0;31m \u001b[0mresult\u001b[0m \u001b[0;34m=\u001b[0m \u001b[0mdivide\u001b[0m\u001b[0;34m(\u001b[0m\u001b[0;36m10\u001b[0m\u001b[0;34m,\u001b[0m \u001b[0;36m0\u001b[0m\u001b[0;34m)\u001b[0m\u001b[0;34m\u001b[0m\u001b[0;34m\u001b[0m\u001b[0m\n\u001b[0m\u001b[1;32m      5\u001b[0m \u001b[0mprint\u001b[0m\u001b[0;34m(\u001b[0m\u001b[0mresult\u001b[0m\u001b[0;34m)\u001b[0m\u001b[0;34m\u001b[0m\u001b[0;34m\u001b[0m\u001b[0m\n",
            "\u001b[0;32m<ipython-input-4-b9cee73b96d3>\u001b[0m in \u001b[0;36mdivide\u001b[0;34m(x, y)\u001b[0m\n\u001b[1;32m      1\u001b[0m \u001b[0;32mdef\u001b[0m \u001b[0mdivide\u001b[0m\u001b[0;34m(\u001b[0m\u001b[0mx\u001b[0m\u001b[0;34m,\u001b[0m \u001b[0my\u001b[0m\u001b[0;34m)\u001b[0m\u001b[0;34m:\u001b[0m\u001b[0;34m\u001b[0m\u001b[0;34m\u001b[0m\u001b[0m\n\u001b[0;32m----> 2\u001b[0;31m     \u001b[0;32mreturn\u001b[0m \u001b[0mx\u001b[0m \u001b[0;34m/\u001b[0m \u001b[0my\u001b[0m\u001b[0;34m\u001b[0m\u001b[0;34m\u001b[0m\u001b[0m\n\u001b[0m\u001b[1;32m      3\u001b[0m \u001b[0;34m\u001b[0m\u001b[0m\n\u001b[1;32m      4\u001b[0m \u001b[0mresult\u001b[0m \u001b[0;34m=\u001b[0m \u001b[0mdivide\u001b[0m\u001b[0;34m(\u001b[0m\u001b[0;36m10\u001b[0m\u001b[0;34m,\u001b[0m \u001b[0;36m0\u001b[0m\u001b[0;34m)\u001b[0m\u001b[0;34m\u001b[0m\u001b[0;34m\u001b[0m\u001b[0m\n\u001b[1;32m      5\u001b[0m \u001b[0mprint\u001b[0m\u001b[0;34m(\u001b[0m\u001b[0mresult\u001b[0m\u001b[0;34m)\u001b[0m\u001b[0;34m\u001b[0m\u001b[0;34m\u001b[0m\u001b[0m\n",
            "\u001b[0;31mZeroDivisionError\u001b[0m: division by zero"
          ]
        }
      ]
    },
    {
      "cell_type": "code",
      "source": [
        "#Q20. What are your options for recovering from an exception in your script?"
      ],
      "metadata": {
        "id": "p0ri2gCL0M0t"
      },
      "execution_count": null,
      "outputs": []
    },
    {
      "cell_type": "markdown",
      "source": [
        "we can write try-except block to catch the exception and handle it gracefully. You can provide alternative logic, log the error, or perform any necessary cleanup operations."
      ],
      "metadata": {
        "id": "HV5Qs1mV0Q1l"
      }
    },
    {
      "cell_type": "code",
      "source": [
        "try:\n",
        "    result = divide(10, 0)\n",
        "except ZeroDivisionError:\n",
        "    print(\"Error: Cannot divide by zero\")\n"
      ],
      "metadata": {
        "colab": {
          "base_uri": "https://localhost:8080/"
        },
        "id": "f_oZuBHi1iIm",
        "outputId": "7671ba84-24a5-4712-ab27-dd471b126ed8"
      },
      "execution_count": null,
      "outputs": [
        {
          "output_type": "stream",
          "name": "stdout",
          "text": [
            "Error: Cannot divide by zero\n"
          ]
        }
      ]
    },
    {
      "cell_type": "code",
      "source": [
        "#Q21. Describe two methods for triggering exceptions in your script."
      ],
      "metadata": {
        "id": "vuceklQT1ilu"
      },
      "execution_count": null,
      "outputs": []
    },
    {
      "cell_type": "markdown",
      "source": [
        "Using the raise Statement:we can manually raise an exception using the raise statement. This is useful when we want to indicate an error condition in code."
      ],
      "metadata": {
        "id": "fRJEPUy02KO8"
      }
    },
    {
      "cell_type": "code",
      "source": [
        "def validate_input(value):\n",
        "    if not isinstance(value, int):\n",
        "        raise ValueError(\"Input must be an integer\")\n",
        "    return value\n",
        "\n",
        "try:\n",
        "    validate_input(\"abc\")\n",
        "except ValueError as e:\n",
        "    print(e)\n"
      ],
      "metadata": {
        "colab": {
          "base_uri": "https://localhost:8080/"
        },
        "id": "8gFGyDJt2SKC",
        "outputId": "dbd2633b-6814-45d1-c153-d6c449a696a9"
      },
      "execution_count": null,
      "outputs": [
        {
          "output_type": "stream",
          "name": "stdout",
          "text": [
            "Input must be an integer\n"
          ]
        }
      ]
    },
    {
      "cell_type": "markdown",
      "source": [
        "Using Built-in Exceptions: Python provides built-in exceptions that can be triggered in various ways. For example, trying to access an element in a list that does not exist will raise an IndexError."
      ],
      "metadata": {
        "id": "I2IdWMLl2j_f"
      }
    },
    {
      "cell_type": "code",
      "source": [
        "my_list = [1, 2, 3]\n",
        "try:\n",
        "    print(my_list[5])\n",
        "except IndexError as e:\n",
        "    print(e)\n"
      ],
      "metadata": {
        "colab": {
          "base_uri": "https://localhost:8080/"
        },
        "id": "t-zoRLZI2S0k",
        "outputId": "937b77e9-4c6d-4ffb-aa45-9ce78465b463"
      },
      "execution_count": null,
      "outputs": [
        {
          "output_type": "stream",
          "name": "stdout",
          "text": [
            "list index out of range\n"
          ]
        }
      ]
    },
    {
      "cell_type": "code",
      "source": [
        "#Q22. Identify two methods for specifying actions to be executed at termination time, regardless of\n",
        "#whether or not an exception exists."
      ],
      "metadata": {
        "id": "JBtaAGwe2n5g"
      },
      "execution_count": null,
      "outputs": []
    },
    {
      "cell_type": "markdown",
      "source": [
        "Using a try-finally Block: we can use a try-finally block to ensure that certain actions are always executed, even if an exception occurs. The code in the finally block will be executed before the exception is propagated up the call stack or the program terminates."
      ],
      "metadata": {
        "id": "M3KArr1Z2vHz"
      }
    },
    {
      "cell_type": "code",
      "source": [
        "#Q23. What is the purpose of the try statement?"
      ],
      "metadata": {
        "id": "2a_vyRaC3G5n"
      },
      "execution_count": null,
      "outputs": []
    },
    {
      "cell_type": "markdown",
      "source": [
        "\n",
        "The purpose of the try statement in Python is to define a block of code in which exceptions can occur. It allows us to handle exceptions gracefully, providing a way to recover from them or perform cleanup operations."
      ],
      "metadata": {
        "id": "-aMzjX_p3Nri"
      }
    },
    {
      "cell_type": "code",
      "source": [
        "#Q24. What are the two most popular try statement variations?"
      ],
      "metadata": {
        "id": "WB6y_c4R8PUC"
      },
      "execution_count": null,
      "outputs": []
    },
    {
      "cell_type": "markdown",
      "source": [
        "try-except: This variation allows you to catch and handle specific exceptions that may occur in the try block.\n",
        "In this variation, if an exception of type SomeException (or a subclass of SomeException) occurs in the try block, the code in the except block is executed to handle the exception.\n",
        "\n",
        "try-finally: This variation allows you to specify a block of code (the finally block) that will always be executed, regardless of whether an exception occurs in the try block\n",
        "In this variation, the finally block is guaranteed to be executed, even if an exception occurs in the try block. This is useful for performing cleanup operations, such as closing files or releasing resources, that should always be done, regardless of whether an exception occurs."
      ],
      "metadata": {
        "id": "bMP8WXmg9rE8"
      }
    },
    {
      "cell_type": "code",
      "source": [
        "#Q25. What is the purpose of the raise statement?"
      ],
      "metadata": {
        "id": "J9G_eDVw97m6"
      },
      "execution_count": null,
      "outputs": []
    },
    {
      "cell_type": "markdown",
      "source": [
        "\n",
        "The raise statement in Python is used to raise exceptions. It allows you to manually raise exceptions or errors in your code, which can be useful for handling exceptional situations that you anticipate. When you raise an exception, you can provide an optional error message or an exception type."
      ],
      "metadata": {
        "id": "jr-PfF-5-EiX"
      }
    },
    {
      "cell_type": "code",
      "source": [
        "def divide(x, y):\n",
        "    if y == 0:\n",
        "        raise ZeroDivisionError(\"Cannot divide by zero\")\n",
        "    return x / y\n",
        "\n",
        "try:\n",
        "    result = divide(10, 0)\n",
        "except ZeroDivisionError as e:\n",
        "    print(\"Error:\", e)\n"
      ],
      "metadata": {
        "colab": {
          "base_uri": "https://localhost:8080/"
        },
        "id": "5zpBKTIM-gtQ",
        "outputId": "4ced0d36-e276-4a98-f79a-93673fd614aa"
      },
      "execution_count": 1,
      "outputs": [
        {
          "output_type": "stream",
          "name": "stdout",
          "text": [
            "Error: Cannot divide by zero\n"
          ]
        }
      ]
    },
    {
      "cell_type": "code",
      "source": [
        "#Q26. What does the assert statement do, and what other statement is it like?"
      ],
      "metadata": {
        "id": "9WE-3P_D-hTd"
      },
      "execution_count": null,
      "outputs": []
    },
    {
      "cell_type": "markdown",
      "source": [
        "\n",
        "The assert statement in Python is used for debugging purposes to check conditions that should always be true. If the condition specified in the assert statement evaluates to False, then an AssertionError exception is raised. It is typically used to catch bugs early in development."
      ],
      "metadata": {
        "id": "C0wCRv9EAN0V"
      }
    },
    {
      "cell_type": "code",
      "source": [
        "x = 5\n",
        "assert x == 5, \"x should be 5\"\n"
      ],
      "metadata": {
        "id": "uSSkMDosAS-e"
      },
      "execution_count": 2,
      "outputs": []
    },
    {
      "cell_type": "markdown",
      "source": [
        "In the above example, the assert statement checks if x is equal to 5. If it's not, an AssertionError is raised with the message \"x should be 5\".\n",
        "\n",
        "The assert statement is similar to the if statement, but it is used for situations where you want to explicitly check a condition that should always be true, rather than handling different cases based on conditions."
      ],
      "metadata": {
        "id": "s2yClJ83Aaam"
      }
    },
    {
      "cell_type": "code",
      "source": [
        "#Q27. What is the purpose of the with/as argument, and what other statement is it like?"
      ],
      "metadata": {
        "id": "KwpLzIQUATwz"
      },
      "execution_count": null,
      "outputs": []
    },
    {
      "cell_type": "markdown",
      "source": [
        "\n",
        "The with statement in Python is used to wrap the execution of a block of code with methods defined by a context manager. It simplifies resource management by ensuring that a resource is properly set up and cleaned up, even if the code block raises an exception.\n",
        "\n",
        "The as keyword is used in conjunction with with to assign the result of the context manager's __enter__ method to a variable. This allows you to work with the resource or object managed by the context manager within the with block.\n",
        "\n",
        "The with statement is similar to the try/finally statement, which also ensures that resources are properly cleaned up. However, the with statement is more concise and readable, especially when working with context managers.\n",
        "\n",
        "\n",
        "\n",
        "\n"
      ],
      "metadata": {
        "id": "vYRuevo2BXFf"
      }
    },
    {
      "cell_type": "code",
      "source": [
        "#Q28. What are *args, **kwargs?"
      ],
      "metadata": {
        "id": "cU8zhYCMBnqB"
      },
      "execution_count": null,
      "outputs": []
    },
    {
      "cell_type": "markdown",
      "source": [
        "*args allows you to pass a variable number of positional arguments to a function. Inside the function, args will be a tuple containing all the positional arguments passed.\n",
        "\n",
        "def my_function(*args):\n",
        "    for arg in args:\n",
        "        print(arg)\n",
        "\n",
        "my_function(1, 2, 3, 4)\n",
        "\n",
        "**kwargs allows you to pass a variable number of keyword arguments (or named arguments) to a function. Inside the function, kwargs will be a dictionary containing all the keyword arguments passed.\n",
        "\n",
        "def my_function(**kwargs):\n",
        "    for key, value in kwargs.items():\n",
        "        print(f\"{key}: {value}\")\n",
        "\n",
        "my_function(name=\"Alice\", age=30)\n"
      ],
      "metadata": {
        "id": "h2XXugmEBzBw"
      }
    },
    {
      "cell_type": "code",
      "source": [
        "#Q29. How can I pass optional or keyword parameters from one function to another?"
      ],
      "metadata": {
        "id": "TmNhfkflCaCb"
      },
      "execution_count": null,
      "outputs": []
    },
    {
      "cell_type": "markdown",
      "source": [
        "we can pass optional or keyword parameters from one function to another by using *args and **kwargs to collect and then unpack the arguments.\n",
        "\n"
      ],
      "metadata": {
        "id": "3lmO3CDtChhR"
      }
    },
    {
      "cell_type": "code",
      "source": [
        "def function_with_kwargs(**kwargs):\n",
        "    another_function(**kwargs)\n",
        "\n",
        "def another_function(name=None, age=None):\n",
        "    print(\"Name:\", name)\n",
        "    print(\"Age:\", age)\n",
        "\n",
        "function_with_kwargs(name=\"sheetal\", age=25)\n"
      ],
      "metadata": {
        "colab": {
          "base_uri": "https://localhost:8080/"
        },
        "id": "Soy3JEtPFKn2",
        "outputId": "8b5bf226-b606-465d-9466-f7d058a892c4"
      },
      "execution_count": 4,
      "outputs": [
        {
          "output_type": "stream",
          "name": "stdout",
          "text": [
            "Name: sheetal\n",
            "Age: 25\n"
          ]
        }
      ]
    },
    {
      "cell_type": "code",
      "source": [
        "#Q30. What are Lambda Functions?"
      ],
      "metadata": {
        "id": "Ia5pGo30FLNH"
      },
      "execution_count": null,
      "outputs": []
    },
    {
      "cell_type": "markdown",
      "source": [
        "Lambda functions, also known as anonymous functions or lambda expressions, are small, inline functions that are defined using the lambda keyword. They are used when we need a simple function for a short period of time and don't want to use the regular def syntax."
      ],
      "metadata": {
        "id": "zR41tzvDFTYD"
      }
    },
    {
      "cell_type": "code",
      "source": [
        "square = lambda x: x**2\n",
        "print(square(5))\n"
      ],
      "metadata": {
        "colab": {
          "base_uri": "https://localhost:8080/"
        },
        "id": "7BoPKnKTGz2b",
        "outputId": "49a12044-0dbb-47bc-d244-5dff39bcb54b"
      },
      "execution_count": 5,
      "outputs": [
        {
          "output_type": "stream",
          "name": "stdout",
          "text": [
            "25\n"
          ]
        }
      ]
    },
    {
      "cell_type": "code",
      "source": [
        "#Q31. Explain Inheritance in Python with an example?"
      ],
      "metadata": {
        "id": "_JusowSsG0Vq"
      },
      "execution_count": null,
      "outputs": []
    },
    {
      "cell_type": "markdown",
      "source": [
        "Inheritance is a fundamental concept in object-oriented programming that allows a new class to inherit attributes and methods from an existing class. In Python, a class can inherit from another class by specifying the parent class in parentheses after the class name."
      ],
      "metadata": {
        "id": "uYN6aP-dG4fz"
      }
    },
    {
      "cell_type": "code",
      "source": [
        "class Animal:\n",
        "    def __init__(self, name):\n",
        "        self.name = name\n",
        "\n",
        "    def speak(self):\n",
        "        raise NotImplementedError(\"Subclass must implement abstract method\")\n",
        "\n",
        "class Dog(Animal):\n",
        "    def speak(self):\n",
        "        return f\"{self.name} says Woof!\"\n",
        "\n",
        "class Cat(Animal):\n",
        "    def speak(self):\n",
        "        return f\"{self.name} says Meow!\"\n",
        "\n",
        "dog = Dog(\"Buddy\")\n",
        "cat = Cat(\"Whiskers\")\n",
        "\n",
        "print(dog.speak())  # Output: Buddy says Woof!\n",
        "print(cat.speak())  # Output: Whiskers says Meow!\n"
      ],
      "metadata": {
        "colab": {
          "base_uri": "https://localhost:8080/"
        },
        "id": "pgg-DIleIULi",
        "outputId": "46903f39-ed70-4866-889c-a08ea5fa2d8e"
      },
      "execution_count": 6,
      "outputs": [
        {
          "output_type": "stream",
          "name": "stdout",
          "text": [
            "Buddy says Woof!\n",
            "Whiskers says Meow!\n"
          ]
        }
      ]
    },
    {
      "cell_type": "code",
      "source": [
        "#Q32. Suppose class C inherits from classes A and B as class C(A,B).Classes A and B both have their own\n",
        "#versions of method func(). If we call func() from an object of class C, which version gets invoked?"
      ],
      "metadata": {
        "id": "4savOnwqIacM"
      },
      "execution_count": null,
      "outputs": []
    },
    {
      "cell_type": "markdown",
      "source": [
        "\n",
        "When a class C inherits from multiple classes A and B (i.e., class C(A, B)), and both A and B have their own versions of a method func(), the version of func() that gets invoked depends on the method resolution order (MRO) in Python.\n",
        "\n",
        "Python uses the C3 linearization algorithm to determine the MRO for classes. The MRO defines the order in which Python looks for methods and attributes in a class hierarchy. When you call a method like func() on an object of class C, Python will search for func() in the following order:\n",
        "\n",
        "First, it will look for func() in the class C itself.\n",
        "If func() is not found in C, it will look in class A, then class B, and finally in any base classes of A and B (and their base classes, recursively), following the MRO."
      ],
      "metadata": {
        "id": "ZpFFN590JcgA"
      }
    },
    {
      "cell_type": "code",
      "source": [
        "class A:\n",
        "    def func(self):\n",
        "        return \"A\"\n",
        "\n",
        "class B:\n",
        "    def func(self):\n",
        "        return \"B\"\n",
        "\n",
        "class C(A, B):\n",
        "    pass\n",
        "\n",
        "obj = C()\n",
        "\n",
        "print(obj.func())  # Output: A\n"
      ],
      "metadata": {
        "colab": {
          "base_uri": "https://localhost:8080/"
        },
        "id": "yjjNE237JoE-",
        "outputId": "fd7fdd53-4b47-4130-e9f2-96438e85e420"
      },
      "execution_count": 7,
      "outputs": [
        {
          "output_type": "stream",
          "name": "stdout",
          "text": [
            "A\n"
          ]
        }
      ]
    },
    {
      "cell_type": "code",
      "source": [
        "#Q33. Which methods/functions do we use to determine the type of instance and inheritance?"
      ],
      "metadata": {
        "id": "hSPJK3ZjJqjq"
      },
      "execution_count": null,
      "outputs": []
    },
    {
      "cell_type": "markdown",
      "source": [
        "use the type() function and the isinstance() function to determine the type of an instance and check for inheritance"
      ],
      "metadata": {
        "id": "LIygfDaLJx1f"
      }
    },
    {
      "cell_type": "code",
      "source": [
        "z=1\n",
        "print(type(z))"
      ],
      "metadata": {
        "colab": {
          "base_uri": "https://localhost:8080/"
        },
        "id": "Xkgk6CxOKTew",
        "outputId": "8a0430bd-9c8b-41e8-ece6-35b4416f660e"
      },
      "execution_count": 8,
      "outputs": [
        {
          "output_type": "stream",
          "name": "stdout",
          "text": [
            "<class 'int'>\n"
          ]
        }
      ]
    },
    {
      "cell_type": "code",
      "source": [
        "class A:\n",
        "    pass\n",
        "\n",
        "class B(A):\n",
        "    pass\n",
        "\n",
        "obj_a = A()\n",
        "obj_b = B()\n",
        "\n",
        "print(isinstance(obj_a, A))"
      ],
      "metadata": {
        "colab": {
          "base_uri": "https://localhost:8080/"
        },
        "id": "55MTOYJ-KYKc",
        "outputId": "bedd36a0-4271-4ab9-8b03-b13f9b1fdb36"
      },
      "execution_count": 9,
      "outputs": [
        {
          "output_type": "stream",
          "name": "stdout",
          "text": [
            "True\n"
          ]
        }
      ]
    },
    {
      "cell_type": "code",
      "source": [
        "#Q34.Explain the use of the 'nonlocal' keyword in Python."
      ],
      "metadata": {
        "id": "qMZwC04pKg9W"
      },
      "execution_count": null,
      "outputs": []
    },
    {
      "cell_type": "markdown",
      "source": [
        "The nonlocal keyword in Python is used to declare that a variable inside a nested function is not local to that function, nor is it a global variable. Instead, the variable belongs to the nearest enclosing scope that is not global."
      ],
      "metadata": {
        "id": "AI--5XxLKmDf"
      }
    },
    {
      "cell_type": "code",
      "source": [
        "def outer_function():\n",
        "    x = \"outer\"\n",
        "\n",
        "    def inner_function():\n",
        "        nonlocal x\n",
        "        x = \"inner\"\n",
        "        print(\"Inner:\", x)\n",
        "\n",
        "    inner_function()\n",
        "    print(\"Outer:\", x)\n",
        "\n",
        "outer_function()\n"
      ],
      "metadata": {
        "colab": {
          "base_uri": "https://localhost:8080/"
        },
        "id": "6tK1IuIgLF5h",
        "outputId": "d8774c20-eb29-4618-fbfb-ebc8e5ceb825"
      },
      "execution_count": 10,
      "outputs": [
        {
          "output_type": "stream",
          "name": "stdout",
          "text": [
            "Inner: inner\n",
            "Outer: inner\n"
          ]
        }
      ]
    },
    {
      "cell_type": "code",
      "source": [
        "#Q35. What is the global keyword?"
      ],
      "metadata": {
        "id": "S0uEhXr0LGip"
      },
      "execution_count": null,
      "outputs": []
    },
    {
      "cell_type": "markdown",
      "source": [
        "The global keyword in Python is used to declare that a variable inside a function is a global variable, meaning that its scope is not limited to the function in which it is declared. When you use the global keyword inside a function, you can modify the value of a global variable from within that function."
      ],
      "metadata": {
        "id": "Fx7Nv4yeLS69"
      }
    },
    {
      "cell_type": "code",
      "source": [
        "x = \"global\"\n",
        "\n",
        "def my_function():\n",
        "    global x\n",
        "    x = \"modified\"\n",
        "    print(\"Inside function:\", x)\n",
        "\n",
        "my_function()\n",
        "print(\"Outside function:\", x)\n"
      ],
      "metadata": {
        "id": "k4bOMPtOLjCN",
        "outputId": "33160e60-d901-4cf2-e1ee-1072dda50fc0",
        "colab": {
          "base_uri": "https://localhost:8080/"
        }
      },
      "execution_count": 11,
      "outputs": [
        {
          "output_type": "stream",
          "name": "stdout",
          "text": [
            "Inside function: modified\n",
            "Outside function: modified\n"
          ]
        }
      ]
    },
    {
      "cell_type": "code",
      "source": [],
      "metadata": {
        "id": "etccvt-DLjsp"
      },
      "execution_count": null,
      "outputs": []
    }
  ]
}